{
  "nbformat": 4,
  "nbformat_minor": 0,
  "metadata": {
    "colab": {
      "provenance": []
    },
    "kernelspec": {
      "name": "python3",
      "display_name": "Python 3"
    },
    "language_info": {
      "name": "python"
    }
  },
  "cells": [
    {
      "cell_type": "code",
      "execution_count": 8,
      "metadata": {
        "colab": {
          "base_uri": "https://localhost:8080/"
        },
        "id": "42lxcwETBLRi",
        "outputId": "db0b8a77-e6e6-487a-ddb2-a1af8369c7e7"
      },
      "outputs": [
        {
          "output_type": "stream",
          "name": "stdout",
          "text": [
            "Date:  2023-11-01\n"
          ]
        }
      ],
      "source": [
        "from datetime import date\n",
        "print(\"Date: \", date.today())"
      ]
    },
    {
      "cell_type": "code",
      "source": [
        "print(\"34 x 11 =\", 34*11)"
      ],
      "metadata": {
        "colab": {
          "base_uri": "https://localhost:8080/"
        },
        "id": "j-IzbfwjB2bf",
        "outputId": "5c58e78d-9c5f-4067-ed07-3fb092b11696"
      },
      "execution_count": 9,
      "outputs": [
        {
          "output_type": "stream",
          "name": "stdout",
          "text": [
            "34 x 11 = 374\n"
          ]
        }
      ]
    },
    {
      "cell_type": "markdown",
      "source": [
        "Reflection:\n",
        "Using repositories, being able to track changes, and using sites like GitHub is super helpful with computational reproducibility. Not only does it help with keep track of your own work and making sure that you know how you have gotten to the finish line, other people can also directly get to your code. In a way, these sites and tools are almost like a lab notebook where you're keeping all of the minute details in a place where you can go back to look at the finer details when reproducing an experiment. This is actually more helpful than having a lab notebook because it takes away all of the personal modifications one might have during an experiment. In this sense, someone who is trying to recreate a model that you might have made can go directly to your GitHub and download that code. They wouldn't have to build it themselves and so makes the whole process more simple."
      ],
      "metadata": {
        "id": "jYhfsxgjC6sM"
      }
    }
  ]
}